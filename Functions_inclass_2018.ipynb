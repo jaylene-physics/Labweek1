{
 "cells": [
  {
   "cell_type": "markdown",
   "metadata": {},
   "source": [
    "# Python Functions, Arrays, Vectorization, Array Indexing\n",
    "Jaylene\n",
    "Jan 12, 2018"
   ]
  },
  {
   "cell_type": "code",
   "execution_count": 1,
   "metadata": {
    "collapsed": true
   },
   "outputs": [],
   "source": [
    "import numpy as np\n",
    "from __future__ import division"
   ]
  },
  {
   "cell_type": "markdown",
   "metadata": {},
   "source": [
    "First, create a function.  As an example, use the equation for total energy:  $TE = 1/2 mv^2 + mgh$"
   ]
  },
  {
   "cell_type": "code",
   "execution_count": 2,
   "metadata": {
    "collapsed": true
   },
   "outputs": [],
   "source": [
    "def TotalE(m,v,h):\n",
    "    TE = 1/2*m*v**2 + m*9.8*h\n",
    "    return TE"
   ]
  },
  {
   "cell_type": "markdown",
   "metadata": {},
   "source": [
    "Let's use this function.  Define variables"
   ]
  },
  {
   "cell_type": "code",
   "execution_count": 4,
   "metadata": {
    "collapsed": false
   },
   "outputs": [
    {
     "name": "stdout",
     "output_type": "stream",
     "text": [
      "Total Energy =  242.55 Joules\n"
     ]
    }
   ],
   "source": [
    "mass = 1.2 #kg\n",
    "velocity = 3.5 #m/s\n",
    "height = 20 #m\n",
    "\n",
    "#define total_energy and call function, passing in variables as parameters in the correct order\n",
    "\n",
    "total_energy = TotalE(mass,velocity,height)\n",
    "\n",
    "print \"Total Energy = \",total_energy, \"Joules\"\n"
   ]
  },
  {
   "cell_type": "markdown",
   "metadata": {},
   "source": [
    "That would have been much less work on a calculator.  The power is in using arrays to perform many calculations quickly."
   ]
  },
  {
   "cell_type": "code",
   "execution_count": 5,
   "metadata": {
    "collapsed": false
   },
   "outputs": [
    {
     "name": "stdout",
     "output_type": "stream",
     "text": [
      "[ 2  4  6  4  8 10  2 10]\n"
     ]
    }
   ],
   "source": [
    "mass_array = np.array([1,2,3,2,4,5,1,5])\n",
    "vel_array = np.array([3.5,4.5,5.5,3.4,2,1,6,7])\n",
    "height = np.array([10,10,20,20,40,40,20,10])\n",
    "\n",
    "dbl_mass = 2*mass_array\n",
    "print dbl_mass"
   ]
  },
  {
   "cell_type": "code",
   "execution_count": 6,
   "metadata": {
    "collapsed": false
   },
   "outputs": [
    {
     "name": "stdout",
     "output_type": "stream",
     "text": [
      "[  104.125   216.25    633.375   403.56   1576.     1962.5     214.      612.5  ]\n"
     ]
    }
   ],
   "source": [
    "total_e_array = TotalE(mass_array,vel_array,height)\n",
    "print total_e_array"
   ]
  },
  {
   "cell_type": "markdown",
   "metadata": {},
   "source": [
    "What if I want to only print out the 5th result?  Can use array indexing for this."
   ]
  },
  {
   "cell_type": "code",
   "execution_count": 7,
   "metadata": {
    "collapsed": false
   },
   "outputs": [
    {
     "name": "stdout",
     "output_type": "stream",
     "text": [
      "1576.0\n"
     ]
    }
   ],
   "source": [
    "print total_e_array[4]"
   ]
  },
  {
   "cell_type": "markdown",
   "metadata": {},
   "source": [
    "How about the first through the third?"
   ]
  },
  {
   "cell_type": "code",
   "execution_count": 9,
   "metadata": {
    "collapsed": false
   },
   "outputs": [
    {
     "name": "stdout",
     "output_type": "stream",
     "text": [
      "[ 104.125  216.25   633.375]\n"
     ]
    }
   ],
   "source": [
    "print total_e_array[0:3]"
   ]
  },
  {
   "cell_type": "markdown",
   "metadata": {},
   "source": [
    "We can also use indexed elements to do calculations"
   ]
  },
  {
   "cell_type": "code",
   "execution_count": 10,
   "metadata": {
    "collapsed": false
   },
   "outputs": [
    {
     "name": "stdout",
     "output_type": "stream",
     "text": [
      "339.3275\n"
     ]
    }
   ],
   "source": [
    "avg = np.average(total_e_array[0:4])\n",
    "print avg"
   ]
  },
  {
   "cell_type": "code",
   "execution_count": 11,
   "metadata": {
    "collapsed": false
   },
   "outputs": [
    {
     "name": "stdout",
     "output_type": "stream",
     "text": [
      "1979.56\n"
     ]
    }
   ],
   "source": [
    "sum = total_e_array[4]+total_e_array[3]\n",
    "print sum"
   ]
  },
  {
   "cell_type": "code",
   "execution_count": null,
   "metadata": {
    "collapsed": true
   },
   "outputs": [],
   "source": []
  }
 ],
 "metadata": {
  "kernelspec": {
   "display_name": "Python 2",
   "language": "python",
   "name": "python2"
  },
  "language_info": {
   "codemirror_mode": {
    "name": "ipython",
    "version": 2
   },
   "file_extension": ".py",
   "mimetype": "text/x-python",
   "name": "python",
   "nbconvert_exporter": "python",
   "pygments_lexer": "ipython2",
   "version": "2.7.13"
  }
 },
 "nbformat": 4,
 "nbformat_minor": 2
}
